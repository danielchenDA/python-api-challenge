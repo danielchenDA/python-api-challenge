{
 "cells": [
  {
   "cell_type": "markdown",
   "metadata": {},
   "source": [
    "# WeatherPy\n",
    "----\n",
    "\n",
    "#### Note\n",
    "* Instructions have been included for each segment. You do not have to follow them exactly, but they are included to help you think through the steps."
   ]
  },
  {
   "cell_type": "code",
   "execution_count": 1,
   "metadata": {
    "scrolled": true
   },
   "outputs": [],
   "source": [
    "# Dependencies and Setup\n",
    "import matplotlib.pyplot as plt\n",
    "import openweathermapy.core as owm\n",
    "import pandas as pd\n",
    "import numpy as np\n",
    "import requests\n",
    "import time\n",
    "import json\n",
    "from pprint import pprint\n",
    "\n",
    "# Import API key\n",
    "from api_keys import api_key\n",
    "\n",
    "# Incorporated citipy to determine city based on latitude and longitude\n",
    "from citipy import citipy\n",
    "\n",
    "# Output File (CSV)\n",
    "output_data_file = \"output_data/cities.csv\"\n",
    "\n",
    "# Range of latitudes and longitudes\n",
    "lat_range = (-90, 90)\n",
    "lng_range = (-180, 180)"
   ]
  },
  {
   "cell_type": "markdown",
   "metadata": {},
   "source": [
    "## Generate Cities List"
   ]
  },
  {
   "cell_type": "code",
   "execution_count": 2,
   "metadata": {},
   "outputs": [
    {
     "data": {
      "text/plain": [
       "637"
      ]
     },
     "execution_count": 2,
     "metadata": {},
     "output_type": "execute_result"
    }
   ],
   "source": [
    "# List for holding lat_lngs and cities\n",
    "lat_lngs = []\n",
    "cities = []\n",
    "\n",
    "# Create a set of random lat and lng combinations\n",
    "lats = np.random.uniform(low=-90.000, high=90.000, size=1500)\n",
    "lngs = np.random.uniform(low=-180.000, high=180.000, size=1500)\n",
    "lat_lngs = zip(lats, lngs)\n",
    "\n",
    "#Make blank dataframe\n",
    "city_weather_metric_df = pd.DataFrame()\n",
    "\n",
    "# Identify nearest city for each lat, lng combination\n",
    "for lat_lng in lat_lngs:\n",
    "    city = citipy.nearest_city(lat_lng[0], lat_lng[1]).city_name\n",
    "    \n",
    "    # If the city is unique, then add it to a our cities list\n",
    "    if city not in cities:\n",
    "        cities.append(city)\n",
    "    \n",
    "# Print the city count to confirm sufficient count\n",
    "len(cities)\n",
    "\n"
   ]
  },
  {
   "cell_type": "markdown",
   "metadata": {},
   "source": [
    "### Perform API Calls\n",
    "* Perform a weather check on each city using a series of successive API calls.\n",
    "* Include a print log of each city as it'sbeing processed (with the city number and city name).\n"
   ]
  },
  {
   "cell_type": "code",
   "execution_count": 3,
   "metadata": {},
   "outputs": [
    {
     "data": {
      "text/html": [
       "<div>\n",
       "<style scoped>\n",
       "    .dataframe tbody tr th:only-of-type {\n",
       "        vertical-align: middle;\n",
       "    }\n",
       "\n",
       "    .dataframe tbody tr th {\n",
       "        vertical-align: top;\n",
       "    }\n",
       "\n",
       "    .dataframe thead th {\n",
       "        text-align: right;\n",
       "    }\n",
       "</style>\n",
       "<table border=\"1\" class=\"dataframe\">\n",
       "  <thead>\n",
       "    <tr style=\"text-align: right;\">\n",
       "      <th></th>\n",
       "      <th>City</th>\n",
       "      <th>Cloudiness</th>\n",
       "      <th>Country</th>\n",
       "      <th>Date</th>\n",
       "      <th>Humidity</th>\n",
       "      <th>Lat</th>\n",
       "      <th>Lng</th>\n",
       "      <th>Max Temp</th>\n",
       "      <th>Wind Speed</th>\n",
       "    </tr>\n",
       "  </thead>\n",
       "  <tbody>\n",
       "    <tr>\n",
       "      <th>0</th>\n",
       "      <td>champerico</td>\n",
       "      <td></td>\n",
       "      <td></td>\n",
       "      <td></td>\n",
       "      <td></td>\n",
       "      <td></td>\n",
       "      <td></td>\n",
       "      <td></td>\n",
       "      <td></td>\n",
       "    </tr>\n",
       "    <tr>\n",
       "      <th>1</th>\n",
       "      <td>cuamba</td>\n",
       "      <td></td>\n",
       "      <td></td>\n",
       "      <td></td>\n",
       "      <td></td>\n",
       "      <td></td>\n",
       "      <td></td>\n",
       "      <td></td>\n",
       "      <td></td>\n",
       "    </tr>\n",
       "    <tr>\n",
       "      <th>2</th>\n",
       "      <td>fortuna</td>\n",
       "      <td></td>\n",
       "      <td></td>\n",
       "      <td></td>\n",
       "      <td></td>\n",
       "      <td></td>\n",
       "      <td></td>\n",
       "      <td></td>\n",
       "      <td></td>\n",
       "    </tr>\n",
       "    <tr>\n",
       "      <th>3</th>\n",
       "      <td>castro</td>\n",
       "      <td></td>\n",
       "      <td></td>\n",
       "      <td></td>\n",
       "      <td></td>\n",
       "      <td></td>\n",
       "      <td></td>\n",
       "      <td></td>\n",
       "      <td></td>\n",
       "    </tr>\n",
       "    <tr>\n",
       "      <th>4</th>\n",
       "      <td>maceio</td>\n",
       "      <td></td>\n",
       "      <td></td>\n",
       "      <td></td>\n",
       "      <td></td>\n",
       "      <td></td>\n",
       "      <td></td>\n",
       "      <td></td>\n",
       "      <td></td>\n",
       "    </tr>\n",
       "  </tbody>\n",
       "</table>\n",
       "</div>"
      ],
      "text/plain": [
       "         City Cloudiness Country Date Humidity Lat Lng Max Temp Wind Speed\n",
       "0  champerico                                                             \n",
       "1      cuamba                                                             \n",
       "2     fortuna                                                             \n",
       "3      castro                                                             \n",
       "4      maceio                                                             "
      ]
     },
     "execution_count": 3,
     "metadata": {},
     "output_type": "execute_result"
    }
   ],
   "source": [
    "#Make blank dataframe\n",
    "city_weather_metric_df = pd.DataFrame()\n",
    "\n",
    "city_weather_metric_df[\"City\"] = cities\n",
    "city_weather_metric_df[\"Cloudiness (%)\"] = \"\"\n",
    "city_weather_metric_df[\"Country\"] = \"\"\n",
    "city_weather_metric_df[\"Date\"] = \"\"\n",
    "city_weather_metric_df[\"Humidity (%)\"] = \"\"\n",
    "city_weather_metric_df[\"Lat\"] = \"\" \n",
    "city_weather_metric_df[\"Lng\"] = \"\"\n",
    "city_weather_metric_df[\"Max Temp (F)\"] = \"\"   \n",
    "city_weather_metric_df[\"Wind Speed (mph)\"] = \"\" \n",
    "\n",
    "city_weather_metric_df.reset_index()\n",
    "city_weather_metric_df.head()"
   ]
  },
  {
   "cell_type": "code",
   "execution_count": 4,
   "metadata": {},
   "outputs": [
    {
     "name": "stdout",
     "output_type": "stream",
     "text": [
      "City 9 is not found\n",
      "City 13 is not found\n",
      "City 26 is not found\n",
      "City 30 is not found\n",
      "City 42 is not found\n",
      "City 59 is not found\n",
      "City 64 is not found\n",
      "City 79 is not found\n",
      "City 80 is not found\n",
      "City 91 is not found\n",
      "City 100 is not found\n",
      "City 110 is not found\n",
      "City 112 is not found\n",
      "City 118 is not found\n",
      "City 125 is not found\n",
      "City 130 is not found\n",
      "City 131 is not found\n",
      "City 134 is not found\n",
      "City 141 is not found\n",
      "City 142 is not found\n",
      "City 158 is not found\n",
      "City 160 is not found\n",
      "City 175 is not found\n",
      "City 177 is not found\n",
      "City 188 is not found\n",
      "City 202 is not found\n",
      "City 212 is not found\n",
      "City 221 is not found\n",
      "City 241 is not found\n",
      "City 244 is not found\n",
      "City 245 is not found\n",
      "City 268 is not found\n",
      "City 276 is not found\n",
      "City 287 is not found\n",
      "City 292 is not found\n",
      "City 309 is not found\n",
      "City 318 is not found\n",
      "City 338 is not found\n",
      "City 348 is not found\n",
      "City 371 is not found\n",
      "City 373 is not found\n",
      "City 377 is not found\n",
      "City 378 is not found\n",
      "City 382 is not found\n",
      "City 385 is not found\n",
      "City 389 is not found\n",
      "City 401 is not found\n",
      "City 404 is not found\n",
      "City 435 is not found\n",
      "City 456 is not found\n",
      "City 461 is not found\n",
      "City 464 is not found\n",
      "City 487 is not found\n",
      "City 492 is not found\n",
      "City 494 is not found\n",
      "City 539 is not found\n",
      "City 543 is not found\n",
      "City 548 is not found\n",
      "City 582 is not found\n",
      "City 610 is not found\n",
      "City 621 is not found\n"
     ]
    },
    {
     "data": {
      "text/html": [
       "<div>\n",
       "<style scoped>\n",
       "    .dataframe tbody tr th:only-of-type {\n",
       "        vertical-align: middle;\n",
       "    }\n",
       "\n",
       "    .dataframe tbody tr th {\n",
       "        vertical-align: top;\n",
       "    }\n",
       "\n",
       "    .dataframe thead th {\n",
       "        text-align: right;\n",
       "    }\n",
       "</style>\n",
       "<table border=\"1\" class=\"dataframe\">\n",
       "  <thead>\n",
       "    <tr style=\"text-align: right;\">\n",
       "      <th></th>\n",
       "      <th>City</th>\n",
       "      <th>Cloudiness</th>\n",
       "      <th>Country</th>\n",
       "      <th>Date</th>\n",
       "      <th>Humidity</th>\n",
       "      <th>Lat</th>\n",
       "      <th>Lng</th>\n",
       "      <th>Max Temp</th>\n",
       "      <th>Wind Speed</th>\n",
       "    </tr>\n",
       "  </thead>\n",
       "  <tbody>\n",
       "    <tr>\n",
       "      <th>0</th>\n",
       "      <td>champerico</td>\n",
       "      <td>90</td>\n",
       "      <td>MX</td>\n",
       "      <td>1570062953</td>\n",
       "      <td>88</td>\n",
       "      <td>16.38</td>\n",
       "      <td>-93.6</td>\n",
       "      <td>75.2</td>\n",
       "      <td>3.36</td>\n",
       "    </tr>\n",
       "    <tr>\n",
       "      <th>1</th>\n",
       "      <td>cuamba</td>\n",
       "      <td>28</td>\n",
       "      <td>MZ</td>\n",
       "      <td>1570062953</td>\n",
       "      <td>80</td>\n",
       "      <td>-14.8</td>\n",
       "      <td>36.54</td>\n",
       "      <td>71.3</td>\n",
       "      <td>6.78</td>\n",
       "    </tr>\n",
       "    <tr>\n",
       "      <th>2</th>\n",
       "      <td>fortuna</td>\n",
       "      <td>40</td>\n",
       "      <td>US</td>\n",
       "      <td>1570062953</td>\n",
       "      <td>48</td>\n",
       "      <td>40.6</td>\n",
       "      <td>-124.16</td>\n",
       "      <td>62.6</td>\n",
       "      <td>12.75</td>\n",
       "    </tr>\n",
       "    <tr>\n",
       "      <th>3</th>\n",
       "      <td>castro</td>\n",
       "      <td>0</td>\n",
       "      <td>CL</td>\n",
       "      <td>1570062953</td>\n",
       "      <td>94</td>\n",
       "      <td>-42.48</td>\n",
       "      <td>-73.76</td>\n",
       "      <td>39.2</td>\n",
       "      <td>5.82</td>\n",
       "    </tr>\n",
       "    <tr>\n",
       "      <th>4</th>\n",
       "      <td>maceio</td>\n",
       "      <td>0</td>\n",
       "      <td>BR</td>\n",
       "      <td>1570062954</td>\n",
       "      <td>94</td>\n",
       "      <td>-9.67</td>\n",
       "      <td>-35.74</td>\n",
       "      <td>71.6</td>\n",
       "      <td>5.82</td>\n",
       "    </tr>\n",
       "  </tbody>\n",
       "</table>\n",
       "</div>"
      ],
      "text/plain": [
       "         City Cloudiness Country        Date Humidity    Lat     Lng Max Temp  \\\n",
       "0  champerico         90      MX  1570062953       88  16.38   -93.6     75.2   \n",
       "1      cuamba         28      MZ  1570062953       80  -14.8   36.54     71.3   \n",
       "2     fortuna         40      US  1570062953       48   40.6 -124.16     62.6   \n",
       "3      castro          0      CL  1570062953       94 -42.48  -73.76     39.2   \n",
       "4      maceio          0      BR  1570062954       94  -9.67  -35.74     71.6   \n",
       "\n",
       "  Wind Speed  \n",
       "0       3.36  \n",
       "1       6.78  \n",
       "2      12.75  \n",
       "3       5.82  \n",
       "4       5.82  "
      ]
     },
     "execution_count": 4,
     "metadata": {},
     "output_type": "execute_result"
    }
   ],
   "source": [
    "# Save config information\n",
    "##url = \"http://api.openweathermap.org/data/2.5/weather?\"\n",
    "#create settings dictionary\n",
    "settings = {\"units\": \"imperial\", \"appid\": api_key}\n",
    "\n",
    "for index,row in city_weather_metric_df.iterrows():\n",
    "    # Build query URL\n",
    "    ##query_url = url + \"appid=\" + api_key + \"&q=\" + row[\"City\"]\n",
    "    # Get weather data\n",
    "    ##weather_response = requests.get(query_url)\n",
    "    ##weather_json = weather_response.json()\n",
    "    \n",
    "    try:\n",
    "        # get current weater of city\n",
    "        current_weather_city = owm.get_current(row[\"City\"], **settings)\n",
    "        city_weather_metric_df.loc[index, 'Lat'] = current_weather_city['coord']['lat']\n",
    "        city_weather_metric_df.loc[index, 'Lng'] = current_weather_city['coord']['lon']\n",
    "        city_weather_metric_df.loc[index, 'Max Temp'] = current_weather_city['main']['temp_max']\n",
    "        city_weather_metric_df.loc[index, 'Wind Speed'] = current_weather_city['wind']['speed']\n",
    "        city_weather_metric_df.loc[index, 'Humidity'] = current_weather_city['main']['humidity']\n",
    "        city_weather_metric_df.loc[index, 'Country'] = current_weather_city['sys']['country']\n",
    "        city_weather_metric_df.loc[index, 'Date'] = current_weather_city['dt']\n",
    "        city_weather_metric_df.loc[index, 'Cloudiness'] = current_weather_city['clouds']['all']\n",
    "    \n",
    "    except:\n",
    "        print(f'City {index} is not found')\n",
    "\n",
    "city_weather_metric_df.head()\n",
    " "
   ]
  },
  {
   "cell_type": "markdown",
   "metadata": {},
   "source": [
    "### Convert Raw Data to DataFrame\n",
    "* Export the city data into a .csv.\n",
    "* Display the DataFrame"
   ]
  },
  {
   "cell_type": "code",
   "execution_count": 5,
   "metadata": {},
   "outputs": [],
   "source": [
    "city_weather_metric_df.to_csv(\"output_data/cities.csv\")"
   ]
  },
  {
   "cell_type": "code",
   "execution_count": null,
   "metadata": {},
   "outputs": [],
   "source": [
    "### Plotting the Data\n",
    "* Use proper labeling of the plots using plot titles (including date of analysis) and axes labels.\n",
    "* Save the plotted figures as .pngs."
   ]
  },
  {
   "cell_type": "markdown",
   "metadata": {},
   "source": [
    "#### Latitude vs. Temperature Plot"
   ]
  },
  {
   "cell_type": "code",
   "execution_count": null,
   "metadata": {},
   "outputs": [],
   "source": []
  },
  {
   "cell_type": "markdown",
   "metadata": {},
   "source": [
    "#### Latitude vs. Humidity Plot"
   ]
  },
  {
   "cell_type": "code",
   "execution_count": null,
   "metadata": {},
   "outputs": [],
   "source": []
  },
  {
   "cell_type": "markdown",
   "metadata": {},
   "source": [
    "#### Latitude vs. Cloudiness Plot"
   ]
  },
  {
   "cell_type": "code",
   "execution_count": null,
   "metadata": {},
   "outputs": [],
   "source": []
  },
  {
   "cell_type": "markdown",
   "metadata": {},
   "source": [
    "#### Latitude vs. Wind Speed Plot"
   ]
  },
  {
   "cell_type": "code",
   "execution_count": null,
   "metadata": {},
   "outputs": [],
   "source": []
  },
  {
   "cell_type": "code",
   "execution_count": null,
   "metadata": {},
   "outputs": [],
   "source": []
  }
 ],
 "metadata": {
  "anaconda-cloud": {},
  "kernel_info": {
   "name": "python3"
  },
  "kernelspec": {
   "display_name": "Python 3",
   "language": "python",
   "name": "python3"
  },
  "language_info": {
   "codemirror_mode": {
    "name": "ipython",
    "version": 3
   },
   "file_extension": ".py",
   "mimetype": "text/x-python",
   "name": "python",
   "nbconvert_exporter": "python",
   "pygments_lexer": "ipython3",
   "version": "3.7.3"
  },
  "nteract": {
   "version": "0.12.3"
  }
 },
 "nbformat": 4,
 "nbformat_minor": 2
}
